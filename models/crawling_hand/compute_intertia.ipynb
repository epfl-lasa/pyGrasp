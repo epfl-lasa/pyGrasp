{
 "cells": [
  {
   "cell_type": "code",
   "execution_count": 1,
   "metadata": {
    "collapsed": true,
    "pycharm": {
     "name": "#%%\n"
    }
   },
   "outputs": [],
   "source": [
    "import numpy as np\n",
    "import trimesh"
   ]
  },
  {
   "cell_type": "code",
   "execution_count": 28,
   "outputs": [],
   "source": [
    "mesh_names = ['base_link.stl', 'distal_1.stl', 'MCP_motor_1.stl', 'MCP_spread_motor_1.stl', 'metacarpal_1.stl', 'middle_1.stl', 'PIP_DIP_motor_1.stl', 'proximal_1.stl']"
   ],
   "metadata": {
    "collapsed": false,
    "pycharm": {
     "name": "#%%\n"
    }
   }
  },
  {
   "cell_type": "code",
   "execution_count": 33,
   "outputs": [
    {
     "name": "stdout",
     "output_type": "stream",
     "text": [
      "base_link.stl 0.0003461055286396379\n",
      "<inertia ixx=\"5.92221522356274e-09\" iyy=\"5.943861078885157e-09\" izz=\"1.0884081824558466e-08\" ixy=\"-2.2434578593181295e-15\" ixz=\"-2.1987675020773372e-14\" iyz=\"-1.0917773068562897e-12\"/> \n",
      "\n",
      "\n",
      "distal_1.stl 0.014438131366227519\n",
      "<inertia ixx=\"4.117651356301195e-06\" iyy=\"1.0388894227182605e-06\" izz=\"4.21072921636497e-06\" ixy=\"2.164653678515207e-16\" ixz=\"-1.9245844416913748e-15\" iyz=\"-1.6363908370743685e-11\"/> \n",
      "\n",
      "\n",
      "MCP_motor_1.stl 0.023\n",
      "<inertia ixx=\"2.9636070237447597e-06\" iyy=\"1.689129286084359e-06\" izz=\"3.199974733668869e-06\" ixy=\"-1.0149236082120486e-08\" ixz=\"-3.3777509339137345e-10\" iyz=\"-6.296317190054438e-10\"/> \n",
      "\n",
      "\n",
      "MCP_spread_motor_1.stl 0.023\n",
      "<inertia ixx=\"3.1999747119098325e-06\" iyy=\"1.6891292995497396e-06\" izz=\"2.963606989667494e-06\" ixy=\"6.296315277085294e-10\" ixz=\"-3.377762528315097e-10\" iyz=\"1.0149243180373256e-08\"/> \n",
      "\n",
      "\n",
      "metacarpal_1.stl 0.009123673471526952\n",
      "<inertia ixx=\"4.21486790107224e-06\" iyy=\"2.102232924013731e-06\" izz=\"5.565059292127287e-06\" ixy=\"-1.603073276593378e-07\" ixz=\"1.6103193955923471e-12\" iyz=\"3.1524730274309727e-12\"/> \n",
      "\n",
      "\n",
      "middle_1.stl 0.0031936082322458047\n",
      "<inertia ixx=\"6.535020005468516e-07\" iyy=\"7.548917005781643e-07\" izz=\"1.2505502119605591e-06\" ixy=\"6.989043418606332e-08\" ixz=\"7.696956441848667e-17\" iyz=\"-9.42773478329148e-16\"/> \n",
      "\n",
      "\n",
      "PIP_DIP_motor_1.stl 0.023\n",
      "<inertia ixx=\"2.963607024144162e-06\" iyy=\"1.6891292783543973e-06\" izz=\"3.1999747491953136e-06\" ixy=\"-1.0149230011531327e-08\" ixz=\"-3.377714183385666e-10\" iyz=\"-6.29622828419397e-10\"/> \n",
      "\n",
      "\n",
      "proximal_1.stl 0.004029090283690362\n",
      "<inertia ixx=\"1.2333406920301018e-06\" iyy=\"9.161939696389479e-07\" izz=\"1.9599275957868025e-06\" ixy=\"1.395845097002687e-08\" ixz=\"9.201531191226027e-13\" iyz=\"1.797308442872558e-12\"/> \n",
      "\n",
      "\n"
     ]
    }
   ],
   "source": [
    "path = 'single_finger/longest/meshes/'\n",
    "for mesh in mesh_names:\n",
    "    data = trimesh.load(path + mesh)\n",
    "    a = data.apply_scale([0.001, 0.001, 0.001])\n",
    "    if 'motor' in mesh:\n",
    "        density = 0.023 / a.mass_properties['mass'] # for motors, use the real mass/density\n",
    "    else:\n",
    "        density = 0.6 * 1000  # 3D-printed part\n",
    "    mass = a.mass_properties['mass'] * density\n",
    "    inertia = a.mass_properties['inertia'] * density\n",
    "    # print(mesh, mass, inertia, '\\n')\n",
    "    print(mesh, mass)\n",
    "    print('<inertia ixx=\"' + str(inertia[0,0]) +\n",
    "                 '\" iyy=\"' + str(inertia[1,1]) +\n",
    "                 '\" izz=\"' + str(inertia[2,2]) +\n",
    "                 '\" ixy=\"' + str(inertia[0,1]) +\n",
    "                 '\" ixz=\"' + str(inertia[0,2]) +\n",
    "                 '\" iyz=\"' + str(inertia[1,2]) +'\"/>', '\\n\\n' )\n",
    "\n",
    "\n"
   ],
   "metadata": {
    "collapsed": false,
    "pycharm": {
     "name": "#%%\n"
    }
   }
  },
  {
   "cell_type": "code",
   "execution_count": 26,
   "outputs": [
    {
     "data": {
      "text/plain": "True"
     },
     "execution_count": 26,
     "metadata": {},
     "output_type": "execute_result"
    }
   ],
   "source": [
    "'motor' in 'MCP_spread_motor_1'\n"
   ],
   "metadata": {
    "collapsed": false,
    "pycharm": {
     "name": "#%%\n"
    }
   }
  },
  {
   "cell_type": "code",
   "execution_count": 9,
   "outputs": [
    {
     "data": {
      "text/plain": "{'density': 1.0,\n 'mass': 6715.15047281727,\n 'volume': 6715.15047281727,\n 'center_mass': array([ 2.33004954, 80.77179811, -8.00002054]),\n 'inertia': array([[2.05556782e+06, 2.32640850e+04, 1.53358853e+00],\n        [2.32640850e+04, 1.52698995e+06, 2.99551407e+00],\n        [1.53358853e+00, 2.99551407e+00, 3.26654599e+06]])}"
     },
     "execution_count": 9,
     "metadata": {},
     "output_type": "execute_result"
    }
   ],
   "source": [
    "data.mass_properties"
   ],
   "metadata": {
    "collapsed": false,
    "pycharm": {
     "name": "#%%\n"
    }
   }
  },
  {
   "cell_type": "code",
   "execution_count": 21,
   "outputs": [],
   "source": [
    "a = data.apply_scale([0.001, 0.001, 0.001])"
   ],
   "metadata": {
    "collapsed": false,
    "pycharm": {
     "name": "#%%\n"
    }
   }
  },
  {
   "cell_type": "code",
   "execution_count": 22,
   "outputs": [
    {
     "data": {
      "text/plain": "{'density': 1.0,\n 'mass': 6.71515047281727e-06,\n 'volume': 6.71515047281727e-06,\n 'center_mass': array([ 0.00233005,  0.0807718 , -0.00800002]),\n 'inertia': array([[2.05556782e-09, 2.32640850e-11, 1.53358853e-15],\n        [2.32640850e-11, 1.52698995e-09, 2.99551407e-15],\n        [1.53358853e-15, 2.99551407e-15, 3.26654599e-09]])}"
     },
     "execution_count": 22,
     "metadata": {},
     "output_type": "execute_result"
    }
   ],
   "source": [
    "a.mass_properties"
   ],
   "metadata": {
    "collapsed": false,
    "pycharm": {
     "name": "#%%\n"
    }
   }
  },
  {
   "cell_type": "code",
   "execution_count": 23,
   "outputs": [
    {
     "ename": "TypeError",
     "evalue": "unsupported operand type(s) for ^: 'float' and 'int'",
     "output_type": "error",
     "traceback": [
      "\u001B[0;31m---------------------------------------------------------------------------\u001B[0m",
      "\u001B[0;31mTypeError\u001B[0m                                 Traceback (most recent call last)",
      "\u001B[0;32m/tmp/ipykernel_17042/1891653743.py\u001B[0m in \u001B[0;36m<module>\u001B[0;34m\u001B[0m\n\u001B[0;32m----> 1\u001B[0;31m \u001B[0ma\u001B[0m\u001B[0;34m.\u001B[0m\u001B[0mdensity\u001B[0m\u001B[0;34m=\u001B[0m\u001B[0;36m0.6\u001B[0m\u001B[0;34m*\u001B[0m\u001B[0;36m10\u001B[0m\u001B[0;34m^\u001B[0m\u001B[0;36m3\u001B[0m\u001B[0;34m\u001B[0m\u001B[0;34m\u001B[0m\u001B[0m\n\u001B[0m",
      "\u001B[0;31mTypeError\u001B[0m: unsupported operand type(s) for ^: 'float' and 'int'"
     ]
    }
   ],
   "source": [],
   "metadata": {
    "collapsed": false,
    "pycharm": {
     "name": "#%%\n"
    }
   }
  }
 ],
 "metadata": {
  "kernelspec": {
   "display_name": "Python 3",
   "language": "python",
   "name": "python3"
  },
  "language_info": {
   "codemirror_mode": {
    "name": "ipython",
    "version": 2
   },
   "file_extension": ".py",
   "mimetype": "text/x-python",
   "name": "python",
   "nbconvert_exporter": "python",
   "pygments_lexer": "ipython2",
   "version": "2.7.6"
  }
 },
 "nbformat": 4,
 "nbformat_minor": 0
}