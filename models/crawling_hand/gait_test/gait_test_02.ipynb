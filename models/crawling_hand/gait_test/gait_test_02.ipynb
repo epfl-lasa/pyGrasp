{
 "cells": [
  {
   "cell_type": "code",
   "execution_count": 1,
   "metadata": {
    "collapsed": true,
    "pycharm": {
     "name": "#%%\n"
    }
   },
   "outputs": [],
   "source": [
    "import mujoco\n",
    "from mujoco import viewer\n",
    "from controller import  Robot\n",
    "import numpy as np\n",
    "\n",
    "import time"
   ]
  },
  {
   "cell_type": "code",
   "execution_count": 2,
   "outputs": [],
   "source": [
    "xml_path = '../descriptions/five_capsule_finger_hand.xml'\n",
    "obj_name = ''\n",
    "model = mujoco.MjModel.from_xml_path(xml_path)\n",
    "data = mujoco.MjData(model)\n",
    "mujoco.mj_step(model, data)\n",
    "\n",
    "\n",
    "# viewer.launch(model, data)\n",
    "view = viewer.launch_passive(model, data)\n",
    "\n",
    "r = Robot(model, data, view, auto_sync=False)"
   ],
   "metadata": {
    "collapsed": false,
    "pycharm": {
     "name": "#%%\n"
    }
   }
  },
  {
   "cell_type": "code",
   "execution_count": 3,
   "outputs": [],
   "source": [
    "t0 = time.time()\n",
    "q0 = np.zeros(10)\n",
    "q0[[1,3,5,7,9]] = np.array([-0.8,0.8,0.8,0.8,0.8])\n",
    "q0 = np.array([0.5, -1.3,\n",
    "               0, 0.5,\n",
    "               0, 1.3,\n",
    "               0, 1.3,\n",
    "               -0.5,1.3])\n",
    "while 1:\n",
    "    if time.time() - t0 >1:\n",
    "        break\n",
    "\n",
    "    r.joint_impedance_control(q0, k=1)\n",
    "    view.sync()\n",
    "    time.sleep(0.002)\n"
   ],
   "metadata": {
    "collapsed": false,
    "pycharm": {
     "name": "#%%\n"
    }
   }
  },
  {
   "cell_type": "code",
   "execution_count": null,
   "outputs": [],
   "source": [
    "q_init = np.copy(r.q)\n",
    "t0 = time.time()\n",
    "while 1:\n",
    "    t = time.time() - t0\n",
    "    freq = 1.5\n",
    "    a1 = 1\n",
    "    a2 = 0.7\n",
    "    a3 = 1\n",
    "    q = np.copy(q_init)\n",
    "    q[1] = q_init[1] -  a2 * np.sin(2 * np.pi * freq * t )\n",
    "    q[4] = q_init[4] +  0.2 * np.sin(2 * np.pi * freq * t)\n",
    "    q[5] = q_init[5] +  0.7 * np.sin(2 * np.pi * freq * t)\n",
    "\n",
    "    #\n",
    "    q[6] = q_init[6] +  0.2 * np.sin(2 * np.pi * freq * t)\n",
    "    q[7] = q_init[7] -  0.7 * np.sin(2 * np.pi * freq * t)\n",
    "    q[9] = q_init[9] -  a2 * np.sin(2 * np.pi * freq * t)\n",
    "\n",
    "    r.joint_impedance_control(q, k=10)\n",
    "    view.sync()\n",
    "    time.sleep(0.002)\n",
    "\n",
    "    if t > 20:\n",
    "        break"
   ],
   "metadata": {
    "collapsed": false,
    "pycharm": {
     "name": "#%%\n",
     "is_executing": true
    }
   }
  },
  {
   "cell_type": "code",
   "execution_count": null,
   "outputs": [],
   "source": [],
   "metadata": {
    "collapsed": false,
    "pycharm": {
     "name": "#%%\n"
    }
   }
  },
  {
   "cell_type": "code",
   "execution_count": 29,
   "outputs": [
    {
     "data": {
      "text/plain": "array([ 5.05468433e-01, -9.97271200e-01, -1.70299449e-08,  1.00000000e+00,\n       -9.04960821e-09,  1.00000000e+00,  2.62194590e-08,  1.00000000e+00,\n       -5.05468433e-01,  9.97271200e-01])"
     },
     "execution_count": 29,
     "metadata": {},
     "output_type": "execute_result"
    }
   ],
   "source": [],
   "metadata": {
    "collapsed": false,
    "pycharm": {
     "name": "#%%\n"
    }
   }
  },
  {
   "cell_type": "markdown",
   "source": [],
   "metadata": {
    "collapsed": false,
    "pycharm": {
     "name": "#%% md\n"
    }
   }
  }
 ],
 "metadata": {
  "kernelspec": {
   "display_name": "Python 3",
   "language": "python",
   "name": "python3"
  },
  "language_info": {
   "codemirror_mode": {
    "name": "ipython",
    "version": 2
   },
   "file_extension": ".py",
   "mimetype": "text/x-python",
   "name": "python",
   "nbconvert_exporter": "python",
   "pygments_lexer": "ipython2",
   "version": "2.7.6"
  }
 },
 "nbformat": 4,
 "nbformat_minor": 0
}